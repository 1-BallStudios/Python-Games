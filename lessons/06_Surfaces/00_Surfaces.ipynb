{
 "cells": [
  {
   "cell_type": "markdown",
   "metadata": {},
   "source": [
    "# Surfaces\n",
    "\n",
    "\n",
    "Here is what the [Pygame Newbie Guide:](https://www.pygame.org/docs/tut/newbieguide.html) has to say about Surfaces:\n",
    "\n",
    "\n",
    "    Know what a surface is.\n",
    "\n",
    "    The most important part of pygame is the surface. Just think of a surface as a\n",
    "    blank piece of paper. You can do a lot of things with a surface -- you can draw\n",
    "    lines on it, fill parts of it with color, copy images to and from it, and set or\n",
    "    read individual pixel colors on it. A surface can be any size (within reason)\n",
    "    and you can have as many of them as you like (again, within reason). One surface\n",
    "    is special -- the one you create with pygame.display.set_mode()Initialize a\n",
    "    window or screen for display. This 'display surface' represents the screen;\n",
    "    whatever you do to it will appear on the user's screen.\n",
    "\n",
    "    So how do you create surfaces? As mentioned above, you create the special\n",
    "    'display surface' with pygame.display.set_mode(). You can create a surface that\n",
    "    contains an image by using pygame.image.load()load new image from a file (or\n",
    "    file-like object), or you can make a surface that contains text with\n",
    "    pygame.font.Font.render()draw text on a new Surface. You can even create a\n",
    "    surface that contains nothing at all with pygame.Surface()pygame object for\n",
    "    representing images.\n",
    "\n",
    "    Most of the surface functions are not critical. Just learn Surface.blit(),\n",
    "    Surface.fill(), Surface.set_at() and Surface.get_at(), and you'll be fine.\n",
    "\n",
    "\n"
   ]
  },
  {
   "cell_type": "markdown",
   "metadata": {},
   "source": []
  }
 ],
 "metadata": {
  "language_info": {
   "name": "python"
  }
 },
 "nbformat": 4,
 "nbformat_minor": 2
}
