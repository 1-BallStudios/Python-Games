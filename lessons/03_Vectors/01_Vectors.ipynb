{
 "cells": [
  {
   "cell_type": "markdown",
   "metadata": {},
   "source": [
    "# Vectors\n",
    "\n",
    "\n",
    "Our programs have been 2 dimensional, so we need to work with both x and y\n",
    "values. Now that we have a good understanding of how objects work, we can start\n",
    "working with vectors, which is an object that combines the x and y values into a\n",
    "single object. THere are two ways of thinking about vectors. One is as a\n",
    "position, which is a point in space. The other is as a direction and a\n",
    "magnitude, which is a line with a length and a direction.\n",
    "\n",
    "![Vector](images/vectors.png)\n",
    "\n",
    "If we have a vector that is a position, we can add two vectors together to get a\n",
    "new vector that is the sum of the two. This is called vector addition. If we\n",
    "have a vector that is a direction and magnitude, we can multiply the vector by a\n",
    "scalar ( a single number ) to get a new vector that is the original vector\n",
    "multiplied by the scalar. This is called scalar multiplication.\n",
    "\n",
    "So, suppose that we have a vector called `p1`, which is the position of the player, at\n",
    "x=100 and y=100. We can write this as:\n",
    "\n",
    "```python\n",
    "from pygame.math import Vector2\n",
    "\n",
    "p1 = Vector2(100, 100)\n",
    "```\n",
    "\n",
    "Now, suppose that we have a vector called `move`, which is the amount we want to move the player. We can move the player just by adding the move vector to the player vector. We can write this as:\n",
    "\n",
    "```python\n",
    "move = Vector2(10, 0)\n",
    "\n",
    "p1 += move\n",
    "```\n",
    "\n",
    "Now, `p1` is at x=110 and y=100.\n",
    "\n",
    "Or, suppose that we want to move the player 100 pixels in the direction of 45 degrees. We can write this as:\n",
    "\n",
    "```python\n",
    "move = Vector2(100, 0)\n",
    "move.rotate_ip(45) # rotate the vector \"in-place\"\n",
    "p1 += move\n",
    "```\n"
   ]
  },
  {
   "cell_type": "markdown",
   "metadata": {},
   "source": [
    "When you add vectors, you really just add the x and y values together. \n"
   ]
  },
  {
   "cell_type": "code",
   "execution_count": 2,
   "metadata": {},
   "outputs": [
    {
     "name": "stdout",
     "output_type": "stream",
     "text": [
      "[30, 30]\n"
     ]
    }
   ],
   "source": [
    "from  pygame import Vector2\n",
    "\n",
    "v1 = Vector2(10, 10 )\n",
    "v2 = Vector2(20, 20 )\n",
    "\n",
    "\n",
    "print(v1 + v2)"
   ]
  },
  {
   "cell_type": "markdown",
   "metadata": {},
   "source": [
    "Rotating a vector changes both the x and y values. The x value is changed by \n",
    "`cos(angle) * x`, and the y value is changed by `sin(angle) * y`. \n"
   ]
  },
  {
   "cell_type": "code",
   "execution_count": 4,
   "metadata": {},
   "outputs": [
    {
     "name": "stdout",
     "output_type": "stream",
     "text": [
      "[10, 10]\n",
      "[7.07107, 7.07107]\n",
      "[17.0711, 17.0711]\n"
     ]
    }
   ],
   "source": [
    "v1 = Vector2(10,10)\n",
    "move = Vector2(10, 0).rotate(45)\n",
    "\n",
    "print(v1)\n",
    "print(move)\n",
    "\n",
    "print(v1 + move)\n"
   ]
  },
  {
   "cell_type": "markdown",
   "metadata": {},
   "source": [
    "Using vectors instead of seperate x and y makes our programs easier to write, read and debug. \n"
   ]
  },
  {
   "cell_type": "markdown",
   "metadata": {},
   "source": []
  }
 ],
 "metadata": {
  "kernelspec": {
   "display_name": ".venv",
   "language": "python",
   "name": "python3"
  },
  "language_info": {
   "codemirror_mode": {
    "name": "ipython",
    "version": 3
   },
   "file_extension": ".py",
   "mimetype": "text/x-python",
   "name": "python",
   "nbconvert_exporter": "python",
   "pygments_lexer": "ipython3",
   "version": "3.12.0"
  }
 },
 "nbformat": 4,
 "nbformat_minor": 2
}
