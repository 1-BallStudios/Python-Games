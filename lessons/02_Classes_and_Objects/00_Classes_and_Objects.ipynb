{
 "cells": [
  {
   "cell_type": "markdown",
   "metadata": {},
   "source": [
    "# Classes and Objects\n",
    "\n",
    "In past Python Lessons you have learned about variables and datatypes, and this\n",
    "lesson you will learn about a new way or organize data, using classes and\n",
    "objects. Classes and objects are a core part of a style of programming called\n",
    "Object-Oriented Programming, ( OOP ) \n",
    "\n",
    "In OOP, an object is a data structre that has:\n",
    "\n",
    "* __Identity__. One object is different from another, and you can tell them\n",
    "  apart. Identity is a variable name or a memory address for the object \n",
    "* __Behavior__. There are things that the object can do, and ways it responds to\n",
    "  actions. An objects behavior is the set of functions that are connected to the\n",
    "  object. \n",
    "* __State__. \"State\" is the name for all the data the describes the object.\n",
    "  State is a set of variables that are part of the object. \n",
    "\n",
    "An object is created from a class, and a close is a datatype. Just like you can\n",
    "create a variable that is a string, or an integer, and those will be different\n",
    "types, an object has to be of a particular type. So, first we have to describe\n",
    "the class, then we can make an object. \n",
    "\n",
    "Here is how we will define a class: \n",
    "\n"
   ]
  },
  {
   "cell_type": "code",
   "execution_count": 2,
   "metadata": {
    "ExecuteTime": {
     "end_time": "2024-09-09T17:58:52.281983Z",
     "start_time": "2024-09-09T17:58:52.215473Z"
    }
   },
   "outputs": [],
   "source": [
    "# Run me!\n",
    "\n",
    "class Person:\n",
    "    \"\"\"Person represents a person in our system.\"\"\"\n",
    "\n",
    "    def __init__(self, name: str, age: int):\n",
    "        self.name = name\n",
    "        self.age = age\n",
    "\n",
    "    def say_hello(self, message: str):\n",
    "        \"\"\"Prints a greeting to the console.\"\"\"\n",
    "        print(f\"Hello, my name is {self.name} and I am {self.age} years old. {message}\")\n",
    "\n"
   ]
  },
  {
   "cell_type": "markdown",
   "metadata": {},
   "source": []
  },
  {
   "cell_type": "code",
   "execution_count": 3,
   "metadata": {},
   "outputs": [
    {
     "name": "stdout",
     "output_type": "stream",
     "text": [
      "Alice\n",
      "30\n"
     ]
    }
   ],
   "source": [
    "# Be sure you ran the cell with the class definition before running this cell\n",
    "\n",
    "\n",
    "alice = Person(\"Alice\", 30) # Create a new Person object. The __init__ method is called automatically\n",
    "\n",
    "print(alice.name) # Access the name attribute of the alice object\n",
    "print(alice.age)\n",
    "\n",
    "alice.say_hello(\"Bonjour!\")  # Call the say_hello method of the alice object\n"
   ]
  },
  {
   "cell_type": "markdown",
   "metadata": {},
   "source": [
    "Notice that the use the dot \".\" to reference things that are part of the object, so `alice.name` gets the `name` variable in the `alice` object \n",
    "\n",
    "Now, we have both a class, `Person` and an obect of that class, `alice`. Remember our definition of an object from the start: it is a structure that has identity, state and behavior. \n",
    "\n",
    "* `alice`, the name of the object, is the identity.\n",
    "* `name` and `age`, the variables, are the state.\n",
    "* `.say_helo()` is the behavior. \n",
    "\n"
   ]
  },
  {
   "cell_type": "markdown",
   "metadata": {},
   "source": [
    "Now, of course, you actually already know a lot about objects. Here is part of\n",
    "the first program in our first Python lesson :\n",
    "\n",
    "```python \n",
    "\n",
    "import turtle                           # Tell Python we want to work with the turtle\n",
    "turtle.setup(width=600, height=600)     # Set the size of the window\n",
    "\n",
    "tina = turtle.Turtle()                  # Create a turtle named tina\n",
    "\n",
    "tina.shape('turtle')                    # Set the shape of the turtle to a turtle\n",
    "tina.speed(2)                           # Make the turtle move as fast, but not too fast.\n",
    "\n",
    "tina.pencolor('blue')                   # Set the pen color to blue\n",
    "tina.forward(150)                       # Move tina forward by the forward distance\n",
    "tina.left(90)                           # Turn tina left by the left turn\n",
    "\n",
    "```\n",
    "\n",
    "In this program: \n",
    "\n",
    "* `Turtle` is a class\n",
    "* `tina` is an object\n",
    "* `.forward()` and `.left()` are methods. "
   ]
  },
  {
   "cell_type": "markdown",
   "metadata": {},
   "source": [
    "## Why Use Classes?\n",
    "\n",
    "Any program that you can write with classes and object, an Object-Oriented\n",
    "Program, you can write without objects. So why use objects?\n",
    "\n",
    "There are many advantages ( and disadvantages ) of OOP but a few of the important ones are:\n",
    "\n",
    "* Objects give you a way to organize your code ( modularity )\n",
    "* Objects are a good way to make parts of your code reusable. \n",
    "\n",
    "When you program using objects you will think about your program in a different\n",
    "way. Instead of thinking about only about steps and procedures  you will think\n",
    "more about things ( Classes ) and how you can break your program up into classes\n",
    "and object, then you will think about what those things will do. "
   ]
  },
  {
   "cell_type": "markdown",
   "metadata": {},
   "source": [
    "## Test Yourself\n",
    "\n",
    "Write a class for that describes an alien. The Alien will have these important variables:\n",
    "\n",
    "* number of eyes\n",
    "* number of legs\n",
    "* color\n",
    "\n",
    "Write methods for the alien that will:\n",
    "\n",
    "* Print a description of the alien\n",
    "* Print the alien number which is the number of eyes times the number of legs\n",
    "  times the number of letters in the name of the aliens color. \n",
    "\n",
    "Then instantiate 4 aliens and add them to an array. Loop through the array to\n",
    "print out a description of all the aliens. "
   ]
  },
  {
   "cell_type": "code",
   "execution_count": 4,
   "metadata": {},
   "outputs": [],
   "source": [
    "# Test Yourself\n",
    "\n"
   ]
  },
  {
   "cell_type": "markdown",
   "metadata": {},
   "source": []
  }
 ],
 "metadata": {
  "kernelspec": {
   "display_name": ".venv",
   "language": "python",
   "name": "python3"
  },
  "language_info": {
   "codemirror_mode": {
    "name": "ipython",
    "version": 3
   },
   "file_extension": ".py",
   "mimetype": "text/x-python",
   "name": "python",
   "nbconvert_exporter": "python",
   "pygments_lexer": "ipython3",
   "version": "3.12.0"
  }
 },
 "nbformat": 4,
 "nbformat_minor": 2
}
